{
 "cells": [
  {
   "cell_type": "code",
   "execution_count": null,
   "id": "1be3dbb1",
   "metadata": {},
   "outputs": [],
   "source": [
    "#Task1 : Stock Market Prediction And Forecasting Using Stacked LSTM\n",
    "Name - Akshanshu Bharti\n",
    "What is LSTM ?\n",
    "Long short-term memory (LSTM) is an artificial recurrent neural network (RNN) architecture,\n",
    "[1] used in the field of deep learning. Unlike standard feedforward neural networks, LSTM has feedback connections. \n",
    "It can process not only single data points (such as images), but also entire sequences of data (such as speech or video). \n",
    "For example, LSTM is applicable to tasks such as unsegmented, connected handwriting recognition,\n",
    "[2] speech recognition[3][4] and anomaly detection in network traffic or IDSs (intrusion detection systems)."
   ]
  },
  {
   "cell_type": "code",
   "execution_count": 8,
   "id": "3cb04d1f",
   "metadata": {},
   "outputs": [],
   "source": [
    "#Import libraries\n",
    "import pandas as pd\n",
    "import numpy as np\n",
    "import matplotlib.pyplot as plt"
   ]
  },
  {
   "cell_type": "code",
   "execution_count": 11,
   "id": "c318a52e",
   "metadata": {},
   "outputs": [
    {
     "data": {
      "text/html": [
       "<div>\n",
       "<style scoped>\n",
       "    .dataframe tbody tr th:only-of-type {\n",
       "        vertical-align: middle;\n",
       "    }\n",
       "\n",
       "    .dataframe tbody tr th {\n",
       "        vertical-align: top;\n",
       "    }\n",
       "\n",
       "    .dataframe thead th {\n",
       "        text-align: right;\n",
       "    }\n",
       "</style>\n",
       "<table border=\"1\" class=\"dataframe\">\n",
       "  <thead>\n",
       "    <tr style=\"text-align: right;\">\n",
       "      <th></th>\n",
       "      <th>Date</th>\n",
       "      <th>Open</th>\n",
       "      <th>High</th>\n",
       "      <th>Low</th>\n",
       "      <th>Last</th>\n",
       "      <th>Close</th>\n",
       "      <th>Total Trade Quantity</th>\n",
       "      <th>Turnover (Lacs)</th>\n",
       "    </tr>\n",
       "  </thead>\n",
       "  <tbody>\n",
       "    <tr>\n",
       "      <th>2030</th>\n",
       "      <td>2010-07-27</td>\n",
       "      <td>117.6</td>\n",
       "      <td>119.50</td>\n",
       "      <td>112.00</td>\n",
       "      <td>118.80</td>\n",
       "      <td>118.65</td>\n",
       "      <td>586100</td>\n",
       "      <td>694.98</td>\n",
       "    </tr>\n",
       "    <tr>\n",
       "      <th>2031</th>\n",
       "      <td>2010-07-26</td>\n",
       "      <td>120.1</td>\n",
       "      <td>121.00</td>\n",
       "      <td>117.10</td>\n",
       "      <td>117.10</td>\n",
       "      <td>117.60</td>\n",
       "      <td>658440</td>\n",
       "      <td>780.01</td>\n",
       "    </tr>\n",
       "    <tr>\n",
       "      <th>2032</th>\n",
       "      <td>2010-07-23</td>\n",
       "      <td>121.8</td>\n",
       "      <td>121.95</td>\n",
       "      <td>120.25</td>\n",
       "      <td>120.35</td>\n",
       "      <td>120.65</td>\n",
       "      <td>281312</td>\n",
       "      <td>340.31</td>\n",
       "    </tr>\n",
       "    <tr>\n",
       "      <th>2033</th>\n",
       "      <td>2010-07-22</td>\n",
       "      <td>120.3</td>\n",
       "      <td>122.00</td>\n",
       "      <td>120.25</td>\n",
       "      <td>120.75</td>\n",
       "      <td>120.90</td>\n",
       "      <td>293312</td>\n",
       "      <td>355.17</td>\n",
       "    </tr>\n",
       "    <tr>\n",
       "      <th>2034</th>\n",
       "      <td>2010-07-21</td>\n",
       "      <td>122.1</td>\n",
       "      <td>123.00</td>\n",
       "      <td>121.05</td>\n",
       "      <td>121.10</td>\n",
       "      <td>121.55</td>\n",
       "      <td>658666</td>\n",
       "      <td>803.56</td>\n",
       "    </tr>\n",
       "  </tbody>\n",
       "</table>\n",
       "</div>"
      ],
      "text/plain": [
       "            Date   Open    High     Low    Last   Close  Total Trade Quantity  \\\n",
       "2030  2010-07-27  117.6  119.50  112.00  118.80  118.65                586100   \n",
       "2031  2010-07-26  120.1  121.00  117.10  117.10  117.60                658440   \n",
       "2032  2010-07-23  121.8  121.95  120.25  120.35  120.65                281312   \n",
       "2033  2010-07-22  120.3  122.00  120.25  120.75  120.90                293312   \n",
       "2034  2010-07-21  122.1  123.00  121.05  121.10  121.55                658666   \n",
       "\n",
       "      Turnover (Lacs)  \n",
       "2030           694.98  \n",
       "2031           780.01  \n",
       "2032           340.31  \n",
       "2033           355.17  \n",
       "2034           803.56  "
      ]
     },
     "execution_count": 11,
     "metadata": {},
     "output_type": "execute_result"
    }
   ],
   "source": [
    "data.tail()"
   ]
  },
  {
   "cell_type": "code",
   "execution_count": 12,
   "id": "37ae34e1",
   "metadata": {},
   "outputs": [
    {
     "data": {
      "text/plain": [
       "Text(0, 0.5, 'Close')"
      ]
     },
     "execution_count": 12,
     "metadata": {},
     "output_type": "execute_result"
    },
    {
     "data": {
      "image/png": "[encoded data removed]",
      "text/plain": [
       "<Figure size 720x288 with 1 Axes>"
      ]
     },
     "metadata": {
      "needs_background": "light"
     },
     "output_type": "display_data"
    }
   ],
   "source": [
    "plt.figure(figsize = (10,4))\n",
    "plt.title('Tata Stocks Closing Price', color='Blue')\n",
    "plt.plot(data['Close'], color='Black')\n",
    "plt.xlabel('Date',fontsize=20, color='Blue')\n",
    "plt.ylabel('Close',fontsize=20, color='Blue')"
   ]
  },
  {
   "cell_type": "code",
   "execution_count": 13,
   "id": "3f715564",
   "metadata": {},
   "outputs": [
    {
     "data": {
      "text/plain": [
       "0    233.75\n",
       "1    233.25\n",
       "2    234.25\n",
       "3    236.10\n",
       "4    233.30\n",
       "Name: Close, dtype: float64"
      ]
     },
     "execution_count": 13,
     "metadata": {},
     "output_type": "execute_result"
    }
   ],
   "source": [
    "data_close = data.reset_index()['Close']\n",
    "data_close.head()"
   ]
  },
  {
   "cell_type": "code",
   "execution_count": 14,
   "id": "2a9fbaea",
   "metadata": {},
   "outputs": [],
   "source": [
    "from sklearn.preprocessing import MinMaxScaler \n",
    "import math \n",
    "import seaborn as sb \n",
    "from sklearn.metrics import mean_squared_error"
   ]
  },
  {
   "cell_type": "code",
   "execution_count": 15,
   "id": "b8f25267",
   "metadata": {},
   "outputs": [
    {
     "data": {
      "text/plain": [
       "array([[0.62418301],\n",
       "       [0.62214052],\n",
       "       [0.62622549],\n",
       "       ...,\n",
       "       [0.1621732 ],\n",
       "       [0.16319444],\n",
       "       [0.16584967]])"
      ]
     },
     "execution_count": 15,
     "metadata": {},
     "output_type": "execute_result"
    }
   ],
   "source": [
    "scaler = MinMaxScaler(feature_range = (0, 1))\n",
    "data_close = scaler.fit_transform(np.array(data_close).reshape(-1, 1))\n",
    "data_close"
   ]
  },
  {
   "cell_type": "code",
   "execution_count": 17,
   "id": "b85c222b",
   "metadata": {},
   "outputs": [
    {
     "data": {
      "text/plain": [
       "(1729, 306)"
      ]
     },
     "execution_count": 17,
     "metadata": {},
     "output_type": "execute_result"
    }
   ],
   "source": [
    "#Training data 85 % and Testing data 15%\n",
    "train_size = int(len(data_close) * 0.85)\n",
    "test_size = len(data_close) - train_size\n",
    "train_data, test_data = data_close[0 : train_size, :], data_close[train_size : len(data_close), : 1]\n",
    "train_size, test_size"
   ]
  },
  {
   "cell_type": "code",
   "execution_count": 18,
   "id": "71c2e519",
   "metadata": {},
   "outputs": [
    {
     "data": {
      "text/plain": [
       "array([[0.62418301],\n",
       "       [0.62214052],\n",
       "       [0.62622549],\n",
       "       ...,\n",
       "       [0.02920752],\n",
       "       [0.02328431],\n",
       "       [0.01919935]])"
      ]
     },
     "execution_count": 18,
     "metadata": {},
     "output_type": "execute_result"
    }
   ],
   "source": [
    "train_data"
   ]
  },
  {
   "cell_type": "code",
   "execution_count": null,
   "id": "cb212595",
   "metadata": {},
   "outputs": [],
   "source": [
    "# The above data is related to time series Dataset's"
   ]
  },
  {
   "cell_type": "code",
   "execution_count": 25,
   "id": "ee920e35",
   "metadata": {},
   "outputs": [],
   "source": [
    "def create_dataset(dataset, time_step = 1):\n",
    "    X_data, Y_data = [], []\n",
    "    for i in range(len(dataset) - time_step - 1):\n",
    "\t    a = dataset[i : (i + time_step), 0] \n",
    "\t    X_data.append(a)\n",
    "\t    Y_data.append(dataset[i + time_step, 0])\n",
    "    return np.array(X_data), np.array(Y_data)"
   ]
  },
  {
   "cell_type": "code",
   "execution_count": 26,
   "id": "a3ef42cc",
   "metadata": {},
   "outputs": [],
   "source": [
    "time_step = 100\n",
    "X_train, Y_train = create_dataset(train_data, time_step)\n",
    "X_test, Y_test = create_dataset(test_data, time_step)"
   ]
  },
  {
   "cell_type": "code",
   "execution_count": 27,
   "id": "07cdf541",
   "metadata": {},
   "outputs": [
    {
     "name": "stdout",
     "output_type": "stream",
     "text": [
      "(1628, 100) (1628,)\n",
      "(205, 100) (205,)\n"
     ]
    }
   ],
   "source": [
    "print(X_train.shape, Y_train.shape)\n",
    "print(X_test.shape, Y_test.shape)"
   ]
  },
  {
   "cell_type": "code",
   "execution_count": 28,
   "id": "cfb735f1",
   "metadata": {},
   "outputs": [],
   "source": [
    "X_train = X_train.reshape(X_train.shape[0], X_train.shape[1] , 1)\n",
    "X_test = X_test.reshape(X_test.shape[0], X_test.shape[1] , 1)"
   ]
  },
  {
   "cell_type": "code",
   "execution_count": 39,
   "id": "bdb131a4",
   "metadata": {},
   "outputs": [
    {
     "name": "stdout",
     "output_type": "stream",
     "text": [
      "Requirement already satisfied: keras in c:\\users\\hp\\anaconda3\\lib\\site-packages (2.9.0)\n",
      "Requirement already satisfied: tensorflow in c:\\users\\hp\\anaconda3\\lib\\site-packages (2.9.1)\n",
      "Requirement already satisfied: gast<=0.4.0,>=0.2.1 in c:\\users\\hp\\anaconda3\\lib\\site-packages (from tensorflow) (0.4.0)\n",
      "Requirement already satisfied: termcolor>=1.1.0 in c:\\users\\hp\\anaconda3\\lib\\site-packages (from tensorflow) (1.1.0)\n",
      "Requirement already satisfied: tensorboard<2.10,>=2.9 in c:\\users\\hp\\anaconda3\\lib\\site-packages (from tensorflow) (2.9.0)\n",
      "Requirement already satisfied: setuptools in c:\\users\\hp\\anaconda3\\lib\\site-packages (from tensorflow) (58.0.4)\n",
      "Requirement already satisfied: packaging in c:\\users\\hp\\anaconda3\\lib\\site-packages (from tensorflow) (21.0)\n",
      "Requirement already satisfied: keras-preprocessing>=1.1.1 in c:\\users\\hp\\anaconda3\\lib\\site-packages (from tensorflow) (1.1.2)\n",
      "Requirement already satisfied: absl-py>=1.0.0 in c:\\users\\hp\\anaconda3\\lib\\site-packages (from tensorflow) (1.1.0)\n",
      "Requirement already satisfied: tensorflow-estimator<2.10.0,>=2.9.0rc0 in c:\\users\\hp\\anaconda3\\lib\\site-packages (from tensorflow) (2.9.0)\n",
      "Requirement already satisfied: keras<2.10.0,>=2.9.0rc0 in c:\\users\\hp\\anaconda3\\lib\\site-packages (from tensorflow) (2.9.0)\n",
      "Requirement already satisfied: typing-extensions>=3.6.6 in c:\\users\\hp\\anaconda3\\lib\\site-packages (from tensorflow) (3.10.0.2)\n",
      "Requirement already satisfied: numpy>=1.20 in c:\\users\\hp\\anaconda3\\lib\\site-packages (from tensorflow) (1.20.3)\n",
      "Requirement already satisfied: flatbuffers<2,>=1.12 in c:\\users\\hp\\anaconda3\\lib\\site-packages (from tensorflow) (1.12)\n",
      "Requirement already satisfied: opt-einsum>=2.3.2 in c:\\users\\hp\\anaconda3\\lib\\site-packages (from tensorflow) (3.3.0)\n",
      "Requirement already satisfied: tensorflow-io-gcs-filesystem>=0.23.1 in c:\\users\\hp\\anaconda3\\lib\\site-packages (from tensorflow) (0.26.0)\n",
      "Requirement already satisfied: grpcio<2.0,>=1.24.3 in c:\\users\\hp\\anaconda3\\lib\\site-packages (from tensorflow) (1.46.3)\n",
      "Requirement already satisfied: h5py>=2.9.0 in c:\\users\\hp\\anaconda3\\lib\\site-packages (from tensorflow) (3.2.1)\n",
      "Requirement already satisfied: google-pasta>=0.1.1 in c:\\users\\hp\\anaconda3\\lib\\site-packages (from tensorflow) (0.2.0)\n",
      "Requirement already satisfied: wrapt>=1.11.0 in c:\\users\\hp\\anaconda3\\lib\\site-packages (from tensorflow) (1.12.1)\n",
      "Requirement already satisfied: astunparse>=1.6.0 in c:\\users\\hp\\anaconda3\\lib\\site-packages (from tensorflow) (1.6.3)\n",
      "Requirement already satisfied: libclang>=13.0.0 in c:\\users\\hp\\anaconda3\\lib\\site-packages (from tensorflow) (14.0.1)\n",
      "Requirement already satisfied: six>=1.12.0 in c:\\users\\hp\\anaconda3\\lib\\site-packages (from tensorflow) (1.16.0)\n",
      "Requirement already satisfied: protobuf<3.20,>=3.9.2 in c:\\users\\hp\\anaconda3\\lib\\site-packages (from tensorflow) (3.19.4)\n",
      "Requirement already satisfied: wheel<1.0,>=0.23.0 in c:\\users\\hp\\anaconda3\\lib\\site-packages (from astunparse>=1.6.0->tensorflow) (0.37.0)\n",
      "Requirement already satisfied: tensorboard-data-server<0.7.0,>=0.6.0 in c:\\users\\hp\\anaconda3\\lib\\site-packages (from tensorboard<2.10,>=2.9->tensorflow) (0.6.1)\n",
      "Requirement already satisfied: tensorboard-plugin-wit>=1.6.0 in c:\\users\\hp\\anaconda3\\lib\\site-packages (from tensorboard<2.10,>=2.9->tensorflow) (1.8.1)\n",
      "Requirement already satisfied: requests<3,>=2.21.0 in c:\\users\\hp\\anaconda3\\lib\\site-packages (from tensorboard<2.10,>=2.9->tensorflow) (2.26.0)\n",
      "Requirement already satisfied: google-auth<3,>=1.6.3 in c:\\users\\hp\\anaconda3\\lib\\site-packages (from tensorboard<2.10,>=2.9->tensorflow) (2.6.6)\n",
      "Requirement already satisfied: markdown>=2.6.8 in c:\\users\\hp\\anaconda3\\lib\\site-packages (from tensorboard<2.10,>=2.9->tensorflow) (3.3.7)\n",
      "Requirement already satisfied: google-auth-oauthlib<0.5,>=0.4.1 in c:\\users\\hp\\anaconda3\\lib\\site-packages (from tensorboard<2.10,>=2.9->tensorflow) (0.4.6)\n",
      "Requirement already satisfied: werkzeug>=1.0.1 in c:\\users\\hp\\anaconda3\\lib\\site-packages (from tensorboard<2.10,>=2.9->tensorflow) (2.0.2)\n",
      "Requirement already satisfied: pyasn1-modules>=0.2.1 in c:\\users\\hp\\anaconda3\\lib\\site-packages (from google-auth<3,>=1.6.3->tensorboard<2.10,>=2.9->tensorflow) (0.2.8)\n",
      "Requirement already satisfied: cachetools<6.0,>=2.0.0 in c:\\users\\hp\\anaconda3\\lib\\site-packages (from google-auth<3,>=1.6.3->tensorboard<2.10,>=2.9->tensorflow) (5.2.0)\n",
      "Requirement already satisfied: rsa<5,>=3.1.4 in c:\\users\\hp\\anaconda3\\lib\\site-packages (from google-auth<3,>=1.6.3->tensorboard<2.10,>=2.9->tensorflow) (4.8)\n",
      "Requirement already satisfied: requests-oauthlib>=0.7.0 in c:\\users\\hp\\anaconda3\\lib\\site-packages (from google-auth-oauthlib<0.5,>=0.4.1->tensorboard<2.10,>=2.9->tensorflow) (1.3.1)\n",
      "Requirement already satisfied: importlib-metadata>=4.4 in c:\\users\\hp\\anaconda3\\lib\\site-packages (from markdown>=2.6.8->tensorboard<2.10,>=2.9->tensorflow) (4.8.1)\n",
      "Requirement already satisfied: zipp>=0.5 in c:\\users\\hp\\anaconda3\\lib\\site-packages (from importlib-metadata>=4.4->markdown>=2.6.8->tensorboard<2.10,>=2.9->tensorflow) (3.6.0)\n",
      "Requirement already satisfied: pyasn1<0.5.0,>=0.4.6 in c:\\users\\hp\\anaconda3\\lib\\site-packages (from pyasn1-modules>=0.2.1->google-auth<3,>=1.6.3->tensorboard<2.10,>=2.9->tensorflow) (0.4.8)\n",
      "Requirement already satisfied: charset-normalizer~=2.0.0 in c:\\users\\hp\\anaconda3\\lib\\site-packages (from requests<3,>=2.21.0->tensorboard<2.10,>=2.9->tensorflow) (2.0.4)\n",
      "Requirement already satisfied: idna<4,>=2.5 in c:\\users\\hp\\anaconda3\\lib\\site-packages (from requests<3,>=2.21.0->tensorboard<2.10,>=2.9->tensorflow) (3.2)\n",
      "Requirement already satisfied: urllib3<1.27,>=1.21.1 in c:\\users\\hp\\anaconda3\\lib\\site-packages (from requests<3,>=2.21.0->tensorboard<2.10,>=2.9->tensorflow) (1.26.7)\n",
      "Requirement already satisfied: certifi>=2017.4.17 in c:\\users\\hp\\anaconda3\\lib\\site-packages (from requests<3,>=2.21.0->tensorboard<2.10,>=2.9->tensorflow) (2021.10.8)\n",
      "Requirement already satisfied: oauthlib>=3.0.0 in c:\\users\\hp\\anaconda3\\lib\\site-packages (from requests-oauthlib>=0.7.0->google-auth-oauthlib<0.5,>=0.4.1->tensorboard<2.10,>=2.9->tensorflow) (3.2.0)\n",
      "Requirement already satisfied: pyparsing>=2.0.2 in c:\\users\\hp\\anaconda3\\lib\\site-packages (from packaging->tensorflow) (3.0.4)\n"
     ]
    }
   ],
   "source": [
    "!pip install keras\n",
    "!pip install tensorflow\n",
    "from keras.models import Sequential \n",
    "from keras.layers import Dense, LSTM "
   ]
  },
  {
   "cell_type": "code",
   "execution_count": 38,
   "id": "ae438e79",
   "metadata": {},
   "outputs": [],
   "source": [
    "# Now tarting LSTM Model\n",
    "lst = Sequential()\n",
    "lst.add(LSTM(50,return_sequences = True, input_shape = (100, 1)))\n",
    "lst.add(LSTM(50, return_sequences = True))\n",
    "lst.add(LSTM(50))\n",
    "lst.add(Dense(1))\n",
    "lst.compile(loss = 'mean_squared_error', optimizer='adam')"
   ]
  },
  {
   "cell_type": "code",
   "execution_count": 41,
   "id": "71e67da0",
   "metadata": {},
   "outputs": [
    {
     "name": "stdout",
     "output_type": "stream",
     "text": [
      "Model: \"sequential_1\"\n",
      "_________________________________________________________________\n",
      " Layer (type)                Output Shape              Param #   \n",
      "=================================================================\n",
      " lstm_3 (LSTM)               (None, 100, 50)           10400     \n",
      "                                                                 \n",
      " lstm_4 (LSTM)               (None, 100, 50)           20200     \n",
      "                                                                 \n",
      " lstm_5 (LSTM)               (None, 50)                20200     \n",
      "                                                                 \n",
      " dense_1 (Dense)             (None, 1)                 51        \n",
      "                                                                 \n",
      "=================================================================\n",
      "Total params: 50,851\n",
      "Trainable params: 50,851\n",
      "Non-trainable params: 0\n",
      "_________________________________________________________________\n"
     ]
    }
   ],
   "source": [
    "lst.summary()"
   ]
  },
  {
   "cell_type": "code",
   "execution_count": 42,
   "id": "962f3b5d",
   "metadata": {},
   "outputs": [
    {
     "name": "stdout",
     "output_type": "stream",
     "text": [
      "Epoch 1/100\n",
      "26/26 [==============================] - 42s 664ms/step - loss: 0.0200 - val_loss: 0.0027\n",
      "Epoch 2/100\n",
      "26/26 [==============================] - 11s 433ms/step - loss: 0.0020 - val_loss: 5.4376e-04\n",
      "Epoch 3/100\n",
      "26/26 [==============================] - 11s 434ms/step - loss: 0.0015 - val_loss: 4.6883e-04\n",
      "Epoch 4/100\n",
      "26/26 [==============================] - 11s 433ms/step - loss: 0.0014 - val_loss: 4.3477e-04\n",
      "Epoch 5/100\n",
      "26/26 [==============================] - 11s 432ms/step - loss: 0.0013 - val_loss: 4.1310e-04\n",
      "Epoch 6/100\n",
      "26/26 [==============================] - 11s 435ms/step - loss: 0.0014 - val_loss: 4.1904e-04\n",
      "Epoch 7/100\n",
      "26/26 [==============================] - 11s 435ms/step - loss: 0.0011 - val_loss: 3.8814e-04\n",
      "Epoch 8/100\n",
      "26/26 [==============================] - 12s 446ms/step - loss: 0.0011 - val_loss: 3.9095e-04\n",
      "Epoch 9/100\n",
      "26/26 [==============================] - 11s 435ms/step - loss: 9.7835e-04 - val_loss: 3.8275e-04\n",
      "Epoch 10/100\n",
      "26/26 [==============================] - 11s 434ms/step - loss: 9.7152e-04 - val_loss: 4.0263e-04\n",
      "Epoch 11/100\n",
      "26/26 [==============================] - 11s 435ms/step - loss: 9.9106e-04 - val_loss: 3.6284e-04\n",
      "Epoch 12/100\n",
      "26/26 [==============================] - 11s 436ms/step - loss: 8.7136e-04 - val_loss: 4.2995e-04\n",
      "Epoch 13/100\n",
      "26/26 [==============================] - 11s 436ms/step - loss: 8.6177e-04 - val_loss: 3.4706e-04\n",
      "Epoch 14/100\n",
      "26/26 [==============================] - 11s 439ms/step - loss: 8.3423e-04 - val_loss: 3.7301e-04\n",
      "Epoch 15/100\n",
      "26/26 [==============================] - 12s 449ms/step - loss: 7.9109e-04 - val_loss: 3.3318e-04\n",
      "Epoch 16/100\n",
      "26/26 [==============================] - 11s 437ms/step - loss: 8.2487e-04 - val_loss: 3.4057e-04\n",
      "Epoch 17/100\n",
      "26/26 [==============================] - 12s 445ms/step - loss: 7.7362e-04 - val_loss: 3.1494e-04\n",
      "Epoch 18/100\n",
      "26/26 [==============================] - 11s 434ms/step - loss: 6.9863e-04 - val_loss: 3.1970e-04\n",
      "Epoch 19/100\n",
      "26/26 [==============================] - 11s 438ms/step - loss: 6.7096e-04 - val_loss: 3.1544e-04\n",
      "Epoch 20/100\n",
      "26/26 [==============================] - 17s 655ms/step - loss: 6.6765e-04 - val_loss: 3.0863e-04\n",
      "Epoch 21/100\n",
      "26/26 [==============================] - 13s 509ms/step - loss: 6.3948e-04 - val_loss: 2.9886e-04\n",
      "Epoch 22/100\n",
      "26/26 [==============================] - 15s 594ms/step - loss: 6.3656e-04 - val_loss: 3.1177e-04\n",
      "Epoch 23/100\n",
      "26/26 [==============================] - 12s 469ms/step - loss: 6.5357e-04 - val_loss: 3.1688e-04\n",
      "Epoch 24/100\n",
      "26/26 [==============================] - 14s 551ms/step - loss: 5.9846e-04 - val_loss: 3.0076e-04\n",
      "Epoch 25/100\n",
      "26/26 [==============================] - 15s 575ms/step - loss: 5.7093e-04 - val_loss: 2.7874e-04\n",
      "Epoch 26/100\n",
      "26/26 [==============================] - 12s 441ms/step - loss: 5.4538e-04 - val_loss: 2.6875e-04\n",
      "Epoch 27/100\n",
      "26/26 [==============================] - 11s 436ms/step - loss: 5.5314e-04 - val_loss: 2.6622e-04\n",
      "Epoch 28/100\n",
      "26/26 [==============================] - 12s 464ms/step - loss: 5.6043e-04 - val_loss: 2.6136e-04\n",
      "Epoch 29/100\n",
      "26/26 [==============================] - 16s 621ms/step - loss: 5.0650e-04 - val_loss: 2.6400e-04\n",
      "Epoch 30/100\n",
      "26/26 [==============================] - 12s 471ms/step - loss: 5.1528e-04 - val_loss: 2.9144e-04\n",
      "Epoch 31/100\n",
      "26/26 [==============================] - 12s 480ms/step - loss: 5.3616e-04 - val_loss: 2.5359e-04\n",
      "Epoch 32/100\n",
      "26/26 [==============================] - 13s 515ms/step - loss: 5.2614e-04 - val_loss: 2.5457e-04\n",
      "Epoch 33/100\n",
      "26/26 [==============================] - 13s 490ms/step - loss: 5.2820e-04 - val_loss: 2.5516e-04\n",
      "Epoch 34/100\n",
      "26/26 [==============================] - 13s 481ms/step - loss: 5.4390e-04 - val_loss: 2.3968e-04\n",
      "Epoch 35/100\n",
      "26/26 [==============================] - 13s 498ms/step - loss: 5.2213e-04 - val_loss: 2.3745e-04\n",
      "Epoch 36/100\n",
      "26/26 [==============================] - 13s 506ms/step - loss: 4.6168e-04 - val_loss: 3.0454e-04\n",
      "Epoch 37/100\n",
      "26/26 [==============================] - 13s 504ms/step - loss: 6.3717e-04 - val_loss: 2.3239e-04\n",
      "Epoch 38/100\n",
      "26/26 [==============================] - 13s 488ms/step - loss: 5.2315e-04 - val_loss: 2.3752e-04\n",
      "Epoch 39/100\n",
      "26/26 [==============================] - 12s 459ms/step - loss: 4.1720e-04 - val_loss: 2.3737e-04\n",
      "Epoch 40/100\n",
      "26/26 [==============================] - 12s 462ms/step - loss: 4.4353e-04 - val_loss: 2.5344e-04\n",
      "Epoch 41/100\n",
      "26/26 [==============================] - 12s 469ms/step - loss: 4.4680e-04 - val_loss: 2.3024e-04\n",
      "Epoch 42/100\n",
      "26/26 [==============================] - 12s 464ms/step - loss: 4.2658e-04 - val_loss: 2.2462e-04\n",
      "Epoch 43/100\n",
      "26/26 [==============================] - 13s 485ms/step - loss: 3.9307e-04 - val_loss: 2.3345e-04\n",
      "Epoch 44/100\n",
      "26/26 [==============================] - 12s 463ms/step - loss: 4.4563e-04 - val_loss: 2.0712e-04\n",
      "Epoch 45/100\n",
      "26/26 [==============================] - 12s 465ms/step - loss: 3.6701e-04 - val_loss: 2.0602e-04\n",
      "Epoch 46/100\n",
      "26/26 [==============================] - 13s 492ms/step - loss: 3.7613e-04 - val_loss: 2.0152e-04\n",
      "Epoch 47/100\n",
      "26/26 [==============================] - 14s 549ms/step - loss: 3.7089e-04 - val_loss: 2.1607e-04\n",
      "Epoch 48/100\n",
      "26/26 [==============================] - 13s 503ms/step - loss: 3.3762e-04 - val_loss: 1.9467e-04\n",
      "Epoch 49/100\n",
      "26/26 [==============================] - 14s 549ms/step - loss: 3.3306e-04 - val_loss: 1.8895e-04\n",
      "Epoch 50/100\n",
      "26/26 [==============================] - 14s 524ms/step - loss: 3.3188e-04 - val_loss: 1.8850e-04\n",
      "Epoch 51/100\n",
      "26/26 [==============================] - 13s 518ms/step - loss: 3.1820e-04 - val_loss: 1.8326e-04\n",
      "Epoch 52/100\n",
      "26/26 [==============================] - 13s 498ms/step - loss: 3.0642e-04 - val_loss: 1.9135e-04\n",
      "Epoch 53/100\n",
      "26/26 [==============================] - 14s 553ms/step - loss: 3.3690e-04 - val_loss: 1.7395e-04\n",
      "Epoch 54/100\n",
      "26/26 [==============================] - 14s 540ms/step - loss: 4.5580e-04 - val_loss: 1.9814e-04\n",
      "Epoch 55/100\n",
      "26/26 [==============================] - 12s 446ms/step - loss: 3.0361e-04 - val_loss: 1.7027e-04\n",
      "Epoch 56/100\n",
      "26/26 [==============================] - 12s 477ms/step - loss: 2.8144e-04 - val_loss: 1.7134e-04\n",
      "Epoch 57/100\n",
      "26/26 [==============================] - 15s 570ms/step - loss: 3.8075e-04 - val_loss: 1.6471e-04\n",
      "Epoch 58/100\n",
      "26/26 [==============================] - 18s 662ms/step - loss: 3.2502e-04 - val_loss: 1.6361e-04\n",
      "Epoch 59/100\n",
      "26/26 [==============================] - 19s 735ms/step - loss: 2.7855e-04 - val_loss: 1.7294e-04\n",
      "Epoch 60/100\n",
      "26/26 [==============================] - 16s 617ms/step - loss: 2.6366e-04 - val_loss: 1.5863e-04\n",
      "Epoch 61/100\n",
      "26/26 [==============================] - 19s 725ms/step - loss: 2.5873e-04 - val_loss: 1.5542e-04\n",
      "Epoch 62/100\n",
      "26/26 [==============================] - 20s 743ms/step - loss: 2.4412e-04 - val_loss: 1.9337e-04\n",
      "Epoch 63/100\n",
      "26/26 [==============================] - 20s 761ms/step - loss: 2.7268e-04 - val_loss: 1.5153e-04\n",
      "Epoch 64/100\n",
      "26/26 [==============================] - 21s 810ms/step - loss: 2.6163e-04 - val_loss: 1.4615e-04\n",
      "Epoch 65/100\n",
      "26/26 [==============================] - 21s 811ms/step - loss: 2.3561e-04 - val_loss: 1.4518e-04\n",
      "Epoch 66/100\n",
      "26/26 [==============================] - 20s 784ms/step - loss: 2.4489e-04 - val_loss: 1.4418e-04\n",
      "Epoch 67/100\n",
      "26/26 [==============================] - 30s 1s/step - loss: 2.4517e-04 - val_loss: 1.5314e-04\n",
      "Epoch 68/100\n",
      "26/26 [==============================] - 26s 976ms/step - loss: 2.4879e-04 - val_loss: 1.3852e-04\n",
      "Epoch 69/100\n",
      "26/26 [==============================] - 21s 796ms/step - loss: 2.2305e-04 - val_loss: 1.3544e-04\n",
      "Epoch 70/100\n",
      "26/26 [==============================] - 31s 1s/step - loss: 2.4833e-04 - val_loss: 1.3493e-04\n",
      "Epoch 71/100\n",
      "26/26 [==============================] - 39s 1s/step - loss: 2.8583e-04 - val_loss: 1.3776e-04\n",
      "Epoch 72/100\n",
      "26/26 [==============================] - 24s 919ms/step - loss: 2.1485e-04 - val_loss: 1.2965e-04\n",
      "Epoch 73/100\n",
      "26/26 [==============================] - 26s 974ms/step - loss: 2.2646e-04 - val_loss: 1.5264e-04\n",
      "Epoch 74/100\n",
      "26/26 [==============================] - 24s 922ms/step - loss: 2.2260e-04 - val_loss: 1.7875e-04\n",
      "Epoch 75/100\n",
      "26/26 [==============================] - 22s 852ms/step - loss: 2.7630e-04 - val_loss: 1.2652e-04\n",
      "Epoch 76/100\n",
      "26/26 [==============================] - 20s 787ms/step - loss: 2.2878e-04 - val_loss: 1.2532e-04\n",
      "Epoch 77/100\n",
      "26/26 [==============================] - 26s 1s/step - loss: 2.1721e-04 - val_loss: 1.2448e-04\n",
      "Epoch 78/100\n",
      "26/26 [==============================] - 28s 1s/step - loss: 2.0086e-04 - val_loss: 1.4054e-04\n",
      "Epoch 79/100\n",
      "26/26 [==============================] - 20s 765ms/step - loss: 2.0805e-04 - val_loss: 1.2197e-04\n",
      "Epoch 80/100\n",
      "26/26 [==============================] - 27s 1s/step - loss: 1.9883e-04 - val_loss: 1.1614e-04\n",
      "Epoch 81/100\n",
      "26/26 [==============================] - 23s 884ms/step - loss: 1.9869e-04 - val_loss: 1.1902e-04\n",
      "Epoch 82/100\n",
      "26/26 [==============================] - 24s 925ms/step - loss: 2.0537e-04 - val_loss: 1.2657e-04\n",
      "Epoch 83/100\n",
      "26/26 [==============================] - 26s 997ms/step - loss: 2.1768e-04 - val_loss: 1.6167e-04\n",
      "Epoch 84/100\n",
      "26/26 [==============================] - 28s 1s/step - loss: 2.0600e-04 - val_loss: 1.4676e-04\n",
      "Epoch 85/100\n",
      "26/26 [==============================] - 25s 959ms/step - loss: 2.3518e-04 - val_loss: 1.1963e-04\n",
      "Epoch 86/100\n",
      "26/26 [==============================] - 28s 1s/step - loss: 1.9453e-04 - val_loss: 1.3126e-04\n",
      "Epoch 87/100\n",
      "26/26 [==============================] - 25s 976ms/step - loss: 2.0476e-04 - val_loss: 1.1637e-04\n",
      "Epoch 88/100\n",
      "26/26 [==============================] - 27s 1s/step - loss: 2.1617e-04 - val_loss: 1.5821e-04\n",
      "Epoch 89/100\n",
      "26/26 [==============================] - 25s 965ms/step - loss: 2.1510e-04 - val_loss: 1.1134e-04\n",
      "Epoch 90/100\n",
      "26/26 [==============================] - 31s 1s/step - loss: 2.1660e-04 - val_loss: 1.4135e-04\n",
      "Epoch 91/100\n",
      "26/26 [==============================] - 24s 936ms/step - loss: 2.1970e-04 - val_loss: 1.1541e-04\n",
      "Epoch 92/100\n",
      "26/26 [==============================] - 38s 1s/step - loss: 1.9137e-04 - val_loss: 1.0902e-04\n",
      "Epoch 93/100\n",
      "26/26 [==============================] - 24s 888ms/step - loss: 1.8902e-04 - val_loss: 1.1805e-04\n",
      "Epoch 94/100\n",
      "26/26 [==============================] - 23s 882ms/step - loss: 1.9995e-04 - val_loss: 1.0780e-04\n",
      "Epoch 95/100\n",
      "26/26 [==============================] - 21s 818ms/step - loss: 1.9745e-04 - val_loss: 1.1916e-04\n",
      "Epoch 96/100\n",
      "26/26 [==============================] - 22s 838ms/step - loss: 2.3535e-04 - val_loss: 1.2221e-04\n",
      "Epoch 97/100\n",
      "26/26 [==============================] - 20s 784ms/step - loss: 2.0870e-04 - val_loss: 1.0561e-04\n",
      "Epoch 98/100\n",
      "26/26 [==============================] - 20s 766ms/step - loss: 1.8604e-04 - val_loss: 1.3026e-04\n",
      "Epoch 99/100\n",
      "26/26 [==============================] - 20s 776ms/step - loss: 2.1436e-04 - val_loss: 1.1275e-04\n",
      "Epoch 100/100\n",
      "26/26 [==============================] - 20s 748ms/step - loss: 2.5223e-04 - val_loss: 1.3203e-04\n"
     ]
    },
    {
     "data": {
      "text/plain": [
       "<keras.callbacks.History at 0x12642bdf100>"
      ]
     },
     "execution_count": 42,
     "metadata": {},
     "output_type": "execute_result"
    }
   ],
   "source": [
    "lst.fit(X_train, Y_train, validation_data = (X_test, Y_test), epochs = 100, batch_size = 64, verbose = 1)"
   ]
  },
  {
   "cell_type": "code",
   "execution_count": 47,
   "id": "a1defe91",
   "metadata": {},
   "outputs": [
    {
     "name": "stdout",
     "output_type": "stream",
     "text": [
      "51/51 [==============================] - 12s 112ms/step\n",
      "7/7 [==============================] - 1s 108ms/step\n"
     ]
    }
   ],
   "source": [
    "train_predict = lst.predict(X_train)\n",
    "test_predict = lst.predict(X_test)"
   ]
  },
  {
   "cell_type": "code",
   "execution_count": null,
   "id": "ebae5ee0",
   "metadata": {},
   "outputs": [],
   "source": [
    "# The avove data shows the 1 and 2 prediction "
   ]
  },
  {
   "cell_type": "code",
   "execution_count": 48,
   "id": "71291be3",
   "metadata": {},
   "outputs": [],
   "source": [
    "train_predict = scaler.inverse_transform(train_predict)\n",
    "test_predict = scaler.inverse_transform(test_predict)"
   ]
  },
  {
   "cell_type": "code",
   "execution_count": 49,
   "id": "137a71ab",
   "metadata": {},
   "outputs": [
    {
     "data": {
      "image/png": "[encoded data removed]",
      "text/plain": [
       "<Figure size 432x288 with 1 Axes>"
      ]
     },
     "metadata": {
      "needs_background": "light"
     },
     "output_type": "display_data"
    }
   ],
   "source": [
    "look_back = 100\n",
    "train_num_pyredict_plot = np.empty_like(data_close)\n",
    "train_num_pyredict_plot[:, :] = np.nan\n",
    "train_num_pyredict_plot[look_back : len(train_predict) + look_back, :] = train_predict\n",
    "test_predict_plot = np.empty_like(data_close)\n",
    "test_predict_plot[:, :] = np.nan\n",
    "test_predict_plot[len(train_predict) + (look_back * 2) + 1 : len(data_close) - 1, :] = test_predict\n",
    "plt.plot(scaler.inverse_transform(data_close))\n",
    "plt.plot(train_num_pyredict_plot)\n",
    "plt.plot(test_predict_plot)\n",
    "plt.show()\n"
   ]
  },
  {
   "cell_type": "code",
   "execution_count": null,
   "id": "8c1c6c5f",
   "metadata": {},
   "outputs": [],
   "source": [
    "Finally the concuslion done ."
   ]
  }
 ],
 "metadata": {
  "kernelspec": {
   "display_name": "Python 3 (ipykernel)",
   "language": "python",
   "name": "python3"
  },
  "language_info": {
   "codemirror_mode": {
    "name": "ipython",
    "version": 3
   },
   "file_extension": ".py",
   "mimetype": "text/x-python",
   "name": "python",
   "nbconvert_exporter": "python",
   "pygments_lexer": "ipython3",
   "version": "3.9.7"
  }
 },
 "nbformat": 4,
 "nbformat_minor": 5
}
